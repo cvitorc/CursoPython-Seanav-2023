{
  "nbformat": 4,
  "nbformat_minor": 0,
  "metadata": {
    "colab": {
      "provenance": []
    },
    "kernelspec": {
      "name": "python3",
      "display_name": "Python 3"
    },
    "language_info": {
      "name": "python"
    }
  },
  "cells": [
    {
      "cell_type": "code",
      "execution_count": null,
      "metadata": {
        "colab": {
          "base_uri": "https://localhost:8080/"
        },
        "id": "G7AFRNVHFsy6",
        "outputId": "31e99ea0-a80e-4daf-f26d-cf740a02971c"
      },
      "outputs": [
        {
          "output_type": "stream",
          "name": "stdout",
          "text": [
            "Simulação de Rota de Navio\n",
            "A distância entre os pontos é de 5806.62 quilômetros.\n",
            "A rota foi plotada no mapa. Você pode verificar o mapa em 'rota_naval.html'.\n"
          ]
        }
      ],
      "source": [
        "import math\n",
        "import folium\n",
        "\n",
        "# Função para calcular a distância entre dois pontos de coordenadas geográficas\n",
        "def calcular_distancia(lat1, lon1, lat2, lon2):\n",
        "    # Converter de graus para radianos\n",
        "    lat1 = math.radians(lat1)\n",
        "    lon1 = math.radians(lon1)\n",
        "    lat2 = math.radians(lat2)\n",
        "    lon2 = math.radians(lon2)\n",
        "\n",
        "    # Raio médio da Terra em quilômetros\n",
        "    raio_terra = 6371.0\n",
        "\n",
        "    # Diferenças entre as coordenadas\n",
        "    dlat = lat2 - lat1\n",
        "    dlon = lon2 - lon1\n",
        "\n",
        "    # Fórmula de Haversine\n",
        "    a = math.sin(dlat/2)**2 + math.cos(lat1) * math.cos(lat2) * math.sin(dlon/2)**2\n",
        "    c = 2 * math.atan2(math.sqrt(a), math.sqrt(1-a))\n",
        "    distancia = raio_terra * c\n",
        "\n",
        "    return distancia\n",
        "\n",
        "# Função para plotar a rota no mapa usando Folium\n",
        "def plotar_rota(lat_partida, lon_partida, lat_chegada, lon_chegada):\n",
        "    # Inicializar o mapa com as coordenadas do ponto de partida\n",
        "    mapa = folium.Map(location=[lat_partida, lon_partida], zoom_start=5)\n",
        "\n",
        "    # Adicionar marcador de partida\n",
        "    folium.Marker([lat_partida, lon_partida], tooltip='Partida', popup='Porto de Nova York ').add_to(mapa)\n",
        "\n",
        "    # Adicionar marcador de chegada\n",
        "    folium.Marker([lat_chegada, lon_chegada], tooltip='Chegada', popup='Porto de Agadir').add_to(mapa)\n",
        "\n",
        "    # Calcular a distância entre os pontos\n",
        "    distancia = calcular_distancia(lat_partida, lon_partida, lat_chegada, lon_chegada)\n",
        "\n",
        "    # Adicionar uma linha de rota entre os pontos de partida e chegada\n",
        "    folium.PolyLine([(lat_partida, lon_partida), (lat_chegada, lon_chegada)], color='red', weight=2.5, opacity=1).add_to(mapa)\n",
        "\n",
        "    # Exibir a distância no mapa\n",
        "    folium.Marker([(lat_partida + lat_chegada) / 2, (lon_partida + lon_chegada) / 2], tooltip=f'Distância: {distancia:.2f} km').add_to(mapa)\n",
        "\n",
        "    # Salvar o mapa em um arquivo HTML\n",
        "    mapa.save(\"rota_navio_curso_seanav.html\")\n",
        "\n",
        "# Função principal do programa\n",
        "def main():\n",
        "    print(\"Simulação de Rota de Navio\")\n",
        "\n",
        "    # Coordenadas dos pontos de partida (Nova York, NY) e chegada (Agadir, Marrocos)\n",
        "    lat_partida = 40.7128\n",
        "    lon_partida = -74.0060\n",
        "    lat_chegada = 30.4220\n",
        "    lon_chegada = -9.5982\n",
        "\n",
        "    # Calcular a distância entre os pontos\n",
        "    distancia = calcular_distancia(lat_partida, lon_partida, lat_chegada, lon_chegada)\n",
        "\n",
        "    # Exibir o resultado\n",
        "    print(f\"A distância entre os pontos é de {distancia:.2f} quilômetros.\")\n",
        "\n",
        "    # Plotar a rota no mapa usando Folium\n",
        "    plotar_rota(lat_partida, lon_partida, lat_chegada, lon_chegada)\n",
        "    print(\"A rota foi plotada no mapa. Você pode verificar o mapa em 'rota_naval.html'.\")\n",
        "\n",
        "if __name__ == \"__main__\":\n",
        "    main()"
      ]
    }
  ]
}