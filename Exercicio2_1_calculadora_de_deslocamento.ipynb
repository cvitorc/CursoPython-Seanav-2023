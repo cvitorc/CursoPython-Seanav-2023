{
  "nbformat": 4,
  "nbformat_minor": 0,
  "metadata": {
    "colab": {
      "provenance": []
    },
    "kernelspec": {
      "name": "python3",
      "display_name": "Python 3"
    },
    "language_info": {
      "name": "python"
    }
  },
  "cells": [
    {
      "cell_type": "code",
      "execution_count": null,
      "metadata": {
        "colab": {
          "base_uri": "https://localhost:8080/"
        },
        "id": "3smSzlYNNX5s",
        "outputId": "96d84921-e107-4780-80a3-d0229b970a51"
      },
      "outputs": [
        {
          "output_type": "stream",
          "name": "stdout",
          "text": [
            "O deslocamento do navio é 353210.90 toneladas.\n"
          ]
        }
      ],
      "source": [
        "# Função para calcular o deslocamento\n",
        "def calcular_deslocamento(comprimento, boca, calado, densidade_agua):\n",
        "    # Converter a densidade da água de t/m³ para kg/m³\n",
        "    densidade_agua_kg_m3 = densidade_agua * 1000\n",
        "\n",
        "    # Calcular o volume do casco abaixo da linha d'água em metros cúbicos\n",
        "    volume_deslocado = comprimento * boca * calado\n",
        "\n",
        "    # Calcular o deslocamento em toneladas (t)\n",
        "    deslocamento_toneladas = volume_deslocado * densidade_agua_kg_m3 / 1000\n",
        "\n",
        "    return deslocamento_toneladas\n",
        "\n",
        "# Obter dados de entrada do usuário - fazer!!!\n",
        "comprimento = 397 #metros\n",
        "boca = 56 #metros\n",
        "calado = 15.5 #metros\n",
        "densidade_agua_ton_m3 = 1.025 #ton/m3\n",
        "\n",
        "# Calcular o deslocamento e exibir o resultado\n",
        "resultado = calcular_deslocamento(comprimento, boca, calado, densidade_agua_ton_m3)\n",
        "print(f\"O deslocamento do navio é {resultado:.2f} toneladas.\")\n"
      ]
    }
  ]
}