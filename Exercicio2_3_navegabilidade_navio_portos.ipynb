{
  "nbformat": 4,
  "nbformat_minor": 0,
  "metadata": {
    "colab": {
      "provenance": []
    },
    "kernelspec": {
      "name": "python3",
      "display_name": "Python 3"
    },
    "language_info": {
      "name": "python"
    }
  },
  "cells": [
    {
      "cell_type": "code",
      "execution_count": null,
      "metadata": {
        "id": "uBhvnq6mw0vo"
      },
      "outputs": [],
      "source": [
        "# Dicionário de portos e suas profundidades em metros\n",
        "portos = {\n",
        "    \"Itaguaí (RJ)\": 20,\n",
        "    \"Itapoá (SC)\": 14,\n",
        "    \"Paranaguá (PR)\": 16,\n",
        "    \"Rio de Janeiro (RJ)\": 14.5,\n",
        "    \"Rio Grande (RS)\": 14,\n",
        "    \"Salvador (BA)\": 15,\n",
        "    \"Santos (SP)\": 15,\n",
        "    \"Suape (PE)\": 14.5,\n",
        "}\n",
        "\n",
        "# Função para verificar se um porto é adequado com base no calado do navio\n",
        "def verificar_porto_adaptado(calado_navio, profundidade_porto):\n",
        "    if calado_navio <= profundidade_porto:\n",
        "        return True\n",
        "    else:\n",
        "        return False\n",
        "\n",
        "# Função para listar os portos adequados com base no calado do navio\n",
        "def listar_portos_adaptados(calado_navio):\n",
        "    portos_adaptados = []\n",
        "    for porto, profundidade in portos.items():\n",
        "        if verificar_porto_adaptado(calado_navio, profundidade):\n",
        "            portos_adaptados.append(porto)\n",
        "    return portos_adaptados\n",
        "\n",
        "# Solicitar o calado do navio ao usuário\n",
        "calado_navio = float(input(\"Informe o calado do navio em metros: \"))\n",
        "\n",
        "# Chamar a função para listar os portos adequados\n",
        "portos_adaptados = listar_portos_adaptados(calado_navio)\n",
        "\n",
        "# Exibir os portos adequados\n",
        "if portos_adaptados:\n",
        "    print(\"O navio pode navegar com segurança nos seguintes portos:\")\n",
        "    for porto in portos_adaptados:\n",
        "        print(porto)\n",
        "else:\n",
        "    print(\"O navio não pode navegar com segurança em nenhum dos portos listados.\")"
      ]
    }
  ]
}