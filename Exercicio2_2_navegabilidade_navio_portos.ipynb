{
  "nbformat": 4,
  "nbformat_minor": 0,
  "metadata": {
    "colab": {
      "provenance": []
    },
    "kernelspec": {
      "name": "python3",
      "display_name": "Python 3"
    },
    "language_info": {
      "name": "python"
    }
  },
  "cells": [
    {
      "cell_type": "code",
      "execution_count": null,
      "metadata": {
        "id": "uBhvnq6mw0vo",
        "colab": {
          "base_uri": "https://localhost:8080/"
        },
        "outputId": "26c32274-6753-4371-d220-bc19e3c549e9"
      },
      "outputs": [
        {
          "output_type": "stream",
          "name": "stdout",
          "text": [
            "Informe o calado do navio em metros: 21\n",
            "O navio não pode navegar com segurança em nenhum dos portos listados.\n"
          ]
        }
      ],
      "source": [
        "# Dicionário de portos e suas profundidades em metros\n",
        "portos = {\n",
        "    \"Itaguaí (RJ)\": 20,\n",
        "    \"Itapoá (SC)\": 14,\n",
        "    \"Paranaguá (PR)\": 16,\n",
        "    \"Rio de Janeiro (RJ)\": 14.5,\n",
        "    \"Rio Grande (RS)\": 14,\n",
        "    \"Salvador (BA)\": 15,\n",
        "    \"Santos (SP)\": 15,\n",
        "    \"Suape (PE)\": 13.5,\n",
        "}\n",
        "\n",
        "# Solicitar o calado do navio ao usuário\n",
        "calado_navio = float(input(\"Informe o calado do navio em metros: \"))\n",
        "\n",
        "# Inicializar uma lista para armazenar os portos adequados\n",
        "portos_adaptados = []\n",
        "\n",
        "# Verificar quais portos são adequados com base no calado do navio\n",
        "for porto, profundidade in portos.items():\n",
        "    if calado_navio <= profundidade:\n",
        "        portos_adaptados.append(porto)\n",
        "\n",
        "# Exibir os portos adequados\n",
        "if portos_adaptados:\n",
        "    print(\"O navio pode navegar com segurança nos seguintes portos:\")\n",
        "    for porto in portos_adaptados:\n",
        "        print(porto)\n",
        "else:\n",
        "    print(\"O navio não pode navegar com segurança em nenhum dos portos listados.\")\n"
      ]
    }
  ]
}