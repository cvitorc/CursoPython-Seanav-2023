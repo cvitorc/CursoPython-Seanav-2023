{
  "nbformat": 4,
  "nbformat_minor": 0,
  "metadata": {
    "colab": {
      "provenance": []
    },
    "kernelspec": {
      "name": "python3",
      "display_name": "Python 3"
    },
    "language_info": {
      "name": "python"
    }
  },
  "cells": [
    {
      "cell_type": "code",
      "execution_count": null,
      "metadata": {
        "colab": {
          "base_uri": "https://localhost:8080/"
        },
        "id": "BMD3B_gL8SsJ",
        "outputId": "1a29360c-cba7-4c41-da3a-e1122048e087"
      },
      "outputs": [
        {
          "output_type": "stream",
          "name": "stdout",
          "text": [
            "Conversor de Temperatura de Celsius para Fahrenheit\n",
            "Digite a temperatura em graus Celsius: 40\n",
            "40.0 graus Celsius equivalem a 104.00 graus Fahrenheit.\n"
          ]
        }
      ],
      "source": [
        "# Função para converter temperatura de Celsius para Fahrenheit\n",
        "def celsius_para_fahrenheit(celsius):\n",
        "    # Fórmula de conversão de temperatura de Celsius para Fahrenheit\n",
        "    fahrenheit = (celsius * 9/5) + 32\n",
        "    return fahrenheit\n",
        "\n",
        "# Função principal do programa\n",
        "def main():\n",
        "    print(\"Conversor de Temperatura de Celsius para Fahrenheit\")\n",
        "\n",
        "    # Solicitar a temperatura em graus Celsius ao usuário\n",
        "    celsius = float(input(\"Digite a temperatura em graus Celsius: \"))\n",
        "\n",
        "    # Chamar a função para converter a temperatura\n",
        "    fahrenheit = celsius_para_fahrenheit(celsius)\n",
        "\n",
        "    # Exibir o resultado\n",
        "    print(f\"{celsius} graus Celsius equivalem a {fahrenheit:.2f} graus Fahrenheit.\")\n",
        "\n",
        "if __name__ == \"__main__\":\n",
        "    main()\n"
      ]
    }
  ]
}