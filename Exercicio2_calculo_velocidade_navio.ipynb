{
  "nbformat": 4,
  "nbformat_minor": 0,
  "metadata": {
    "colab": {
      "provenance": []
    },
    "kernelspec": {
      "name": "python3",
      "display_name": "Python 3"
    },
    "language_info": {
      "name": "python"
    }
  },
  "cells": [
    {
      "cell_type": "code",
      "execution_count": null,
      "metadata": {
        "id": "gRmmE81F6GCE",
        "outputId": "28710aad-7278-4c72-bdb5-7c8cc8dc97b8",
        "colab": {
          "base_uri": "https://localhost:8080/"
        }
      },
      "outputs": [
        {
          "output_type": "stream",
          "name": "stdout",
          "text": [
            "Calculadora de Velocidade Média de Navio\n",
            "Digite a distância percorrida (em milhas náuticas): 20\n",
            "Digite o tempo gasto (em horas): 12\n",
            "A velocidade média do navio é de 1.67 nós.\n"
          ]
        }
      ],
      "source": [
        "# Função para calcular a velocidade média de um navio\n",
        "def calcular_velocidade_media(distancia, tempo):\n",
        "    # Fórmula para calcular a velocidade média: velocidade = distância / tempo\n",
        "    velocidade = distancia / tempo\n",
        "    return velocidade\n",
        "\n",
        "# Função principal do programa\n",
        "def main():\n",
        "    print(\"Calculadora de Velocidade Média de Navio\")\n",
        "\n",
        "    # Solicitar a distância percorrida ao usuário\n",
        "    distancia = float(input(\"Digite a distância percorrida (em milhas náuticas): \"))\n",
        "\n",
        "    # Solicitar o tempo gasto ao usuário\n",
        "    tempo = float(input(\"Digite o tempo gasto (em horas): \"))\n",
        "\n",
        "    # Chamar a função para calcular a velocidade média\n",
        "    velocidade = calcular_velocidade_media(distancia, tempo)\n",
        "\n",
        "    # Exibir o resultado\n",
        "    print(f\"A velocidade média do navio é de {velocidade:.2f} nós.\")\n",
        "\n",
        "if __name__ == \"__main__\":\n",
        "    main()\n"
      ]
    }
  ]
}