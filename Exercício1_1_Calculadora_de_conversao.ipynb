{
  "nbformat": 4,
  "nbformat_minor": 0,
  "metadata": {
    "colab": {
      "provenance": []
    },
    "kernelspec": {
      "name": "python3",
      "display_name": "Python 3"
    },
    "language_info": {
      "name": "python"
    }
  },
  "cells": [
    {
      "cell_type": "code",
      "execution_count": null,
      "metadata": {
        "colab": {
          "base_uri": "https://localhost:8080/"
        },
        "id": "jmn1OfVVyt0d",
        "outputId": "4b9b72f5-0df8-4ede-dc89-b5e6b5495cf9"
      },
      "outputs": [
        {
          "output_type": "stream",
          "name": "stdout",
          "text": [
            "Calculadora de Conversão de Unidades Navais\n",
            "1. Converter pés para metros\n",
            "2. Converter nós para quilômetros por hora\n",
            "3. Converter metros cúbicos para litros\n",
            "Escolha uma opção (1/2/3): 2\n",
            "Digite a velocidade em nós: 10\n",
            "10.0 nós é igual a 18.52 km/h.\n"
          ]
        }
      ],
      "source": [
        "# Função para converter pés para metros\n",
        "def pes_para_metros(pes):\n",
        "    # Fórmula de conversão de pés para metros\n",
        "    metros = pes * 0.3048\n",
        "    return metros\n",
        "\n",
        "# Função para converter nós para quilômetros por hora\n",
        "def nos_para_kmph(nos):\n",
        "    # Fórmula de conversão de nós para quilômetros por hora\n",
        "    kmph = nos * 1.852\n",
        "    return kmph\n",
        "\n",
        "# Função para converter metros cúbicos para litros\n",
        "def metros_cubicos_para_litros(metros_cubicos):\n",
        "    # Fórmula de conversão de metros cúbicos para litros\n",
        "    litros = metros_cubicos * 1000\n",
        "    return litros\n",
        "\n",
        "# Função principal do programa\n",
        "def main():\n",
        "    # Mensagem de boas-vindas\n",
        "    print(\"Calculadora de Conversão de Unidades Navais\")\n",
        "\n",
        "    # Opções para o usuário\n",
        "    print(\"1. Converter pés para metros\")\n",
        "    print(\"2. Converter nós para quilômetros por hora\")\n",
        "    print(\"3. Converter metros cúbicos para litros\")\n",
        "\n",
        "    # Ler a escolha do usuário\n",
        "    escolha = input(\"Escolha uma opção (1/2/3): \")\n",
        "\n",
        "    # Verificar a escolha do usuário\n",
        "    if escolha == '1':\n",
        "        # Se o usuário escolher converter pés para metros\n",
        "        pes = float(input(\"Digite a quantidade em pés: \"))  # Solicitar entrada do usuário\n",
        "        metros = pes_para_metros(pes)  # Chamar a função de conversão\n",
        "        print(f\"{pes} pés é igual a {metros:.2f} metros.\")  # Exibir o resultado com duas casas decimais\n",
        "    elif escolha == '2':\n",
        "        # Se o usuário escolher converter nós para quilômetros por hora\n",
        "        nos = float(input(\"Digite a velocidade em nós: \"))  # Solicitar entrada do usuário\n",
        "        kmph = nos_para_kmph(nos)  # Chamar a função de conversão\n",
        "        print(f\"{nos} nós é igual a {kmph:.2f} km/h.\")  # Exibir o resultado com duas casas decimais\n",
        "    elif escolha == '3':\n",
        "        # Se o usuário escolher converter metros cúbicos para litros\n",
        "        metros_cubicos = float(input(\"Digite o volume em metros cúbicos: \"))  # Solicitar entrada do usuário\n",
        "        litros = metros_cubicos_para_litros(metros_cubicos)  # Chamar a função de conversão\n",
        "        print(f\"{metros_cubicos} metros cúbicos é igual a {litros:.2f} litros.\")  # Exibir o resultado com duas casas decimais\n",
        "    else:\n",
        "        # Se o usuário escolher uma opção inválida\n",
        "        print(\"Opção inválida. Por favor, escolha uma opção válida (1/2/3).\")\n",
        "\n",
        "# Verificar se o programa está sendo executado como script principal\n",
        "if __name__ == \"__main__\":\n",
        "    main()  # Chamar a função principal do programa\n"
      ]
    }
  ]
}