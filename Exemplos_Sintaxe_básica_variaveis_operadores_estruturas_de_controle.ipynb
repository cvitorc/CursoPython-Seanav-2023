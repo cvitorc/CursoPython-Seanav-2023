{
  "nbformat": 4,
  "nbformat_minor": 0,
  "metadata": {
    "colab": {
      "provenance": []
    },
    "kernelspec": {
      "name": "python3",
      "display_name": "Python 3"
    },
    "language_info": {
      "name": "python"
    }
  },
  "cells": [
    {
      "cell_type": "markdown",
      "source": [
        "Variáveis em Python:\n",
        "As variáveis são usadas para armazenar dados em Python. Elas não precisam ser declaradas explicitamente; basta atribuir um valor a uma variável para criá-la. Aqui está um exemplo:"
      ],
      "metadata": {
        "id": "ag078x-AvAEP"
      }
    },
    {
      "cell_type": "code",
      "execution_count": null,
      "metadata": {
        "id": "kbYO2ukfu0rU"
      },
      "outputs": [],
      "source": [
        "# Variáveis de exemplo\n",
        "nome = \"João\"\n",
        "idade = 25\n",
        "altura = 1.75"
      ]
    },
    {
      "cell_type": "markdown",
      "source": [
        "Tipos de Dados:\n",
        "Python possui vários tipos de dados, incluindo inteiros, flutuantes, strings e booleanos. O tipo de dado é definido automaticamente com base no valor atribuído à variável:"
      ],
      "metadata": {
        "id": "oMNaJ1sHvFXs"
      }
    },
    {
      "cell_type": "code",
      "source": [
        "# Exemplos de tipos de dados\n",
        "inteiro = 42\n",
        "flutuante = 3.14\n",
        "texto = \"Olá, mundo!\"\n",
        "booleano = True\n"
      ],
      "metadata": {
        "id": "6UaFugjnvGrY"
      },
      "execution_count": null,
      "outputs": []
    },
    {
      "cell_type": "markdown",
      "source": [
        "Operadores:\n",
        "Python suporta vários operadores para realizar operações em variáveis. Aqui estão alguns exemplos dos operadores mais comuns:"
      ],
      "metadata": {
        "id": "O4d4IJmavKYM"
      }
    },
    {
      "cell_type": "code",
      "source": [
        "# Operadores matemáticos\n",
        "soma = 5 + 3\n",
        "subtracao = 10 - 4\n",
        "multiplicacao = 6 * 2\n",
        "divisao = 8 / 4\n",
        "modulo = 10 % 3\n",
        "\n",
        "# Operadores de comparação\n",
        "igual = 5 == 5\n",
        "diferente = 10 != 7\n",
        "maior = 15 > 10\n",
        "menor = 3 < 6\n",
        "\n",
        "# Operadores lógicos\n",
        "e_logico = True and False\n",
        "ou_logico = True or False\n",
        "nao_logico = not True\n"
      ],
      "metadata": {
        "id": "xq189IRFvK9M"
      },
      "execution_count": null,
      "outputs": []
    },
    {
      "cell_type": "markdown",
      "source": [
        "Estruturas de Controle:\n",
        "Python oferece estruturas de controle para tomar decisões e criar loops. Aqui estão exemplos de estruturas de controle:\n",
        "\n",
        "Estrutura de Decisão (if-else):"
      ],
      "metadata": {
        "id": "5-6ix5WXvOok"
      }
    },
    {
      "cell_type": "code",
      "source": [
        "idade = 18\n",
        "if idade >= 18:\n",
        "    print(\"Você é maior de idade.\")\n",
        "else:\n",
        "    print(\"Você é menor de idade.\")\n"
      ],
      "metadata": {
        "colab": {
          "base_uri": "https://localhost:8080/"
        },
        "id": "gqI-HPssvQKc",
        "outputId": "37bd4b79-bbfd-47f7-9cb5-ad621f708afc"
      },
      "execution_count": null,
      "outputs": [
        {
          "output_type": "stream",
          "name": "stdout",
          "text": [
            "Você é maior de idade.\n"
          ]
        }
      ]
    },
    {
      "cell_type": "markdown",
      "source": [
        "Um exemplo de estrutura de decisão em Python usando if, elif (abreviação de \"else if\") e else:"
      ],
      "metadata": {
        "id": "8sH3Ls0YvRQ1"
      }
    },
    {
      "cell_type": "code",
      "source": [
        "idade = 25\n",
        "\n",
        "if idade < 18:\n",
        "    print(\"Você é menor de idade.\")\n",
        "elif idade == 18:\n",
        "    print(\"Você tem 18 anos.\")\n",
        "else:\n",
        "    print(\"Você é maior de idade.\")\n"
      ],
      "metadata": {
        "colab": {
          "base_uri": "https://localhost:8080/"
        },
        "id": "YIv7fyqKvWQc",
        "outputId": "24ace73d-e579-4243-eba1-39f18859c4b0"
      },
      "execution_count": null,
      "outputs": [
        {
          "output_type": "stream",
          "name": "stdout",
          "text": [
            "Você é maior de idade.\n"
          ]
        }
      ]
    },
    {
      "cell_type": "markdown",
      "source": [
        "Neste exemplo:\n",
        "\n",
        "O if verifica se a idade é menor que 18 e exibe \"Você é menor de idade\" se a condição for verdadeira.\n",
        "O elif verifica se a idade é igual a 18 e exibe \"Você tem 18 anos\" se a condição for verdadeira.\n",
        "O else lida com todas as outras situações e exibe \"Você é maior de idade\" se nenhuma das condições anteriores for verdadeira.\n",
        "Esta estrutura de decisão permite que você lide com várias condições de maneira organizada."
      ],
      "metadata": {
        "id": "56IXQ2NivXx9"
      }
    },
    {
      "cell_type": "markdown",
      "source": [
        "Estrutura de Repetição (for):"
      ],
      "metadata": {
        "id": "KlyHOG06vgmE"
      }
    },
    {
      "cell_type": "code",
      "source": [
        "for i in range(5):\n",
        "    print(i)\n"
      ],
      "metadata": {
        "colab": {
          "base_uri": "https://localhost:8080/"
        },
        "id": "JKfycXOxvh3k",
        "outputId": "fb717c34-2b28-4a87-e55e-c3cb9dfa921a"
      },
      "execution_count": null,
      "outputs": [
        {
          "output_type": "stream",
          "name": "stdout",
          "text": [
            "0\n",
            "1\n",
            "2\n",
            "3\n",
            "4\n"
          ]
        }
      ]
    },
    {
      "cell_type": "markdown",
      "source": [
        "Estrutura de Repetição (while):"
      ],
      "metadata": {
        "id": "ElPZScqzvj4s"
      }
    },
    {
      "cell_type": "code",
      "source": [
        "contador = 0\n",
        "while contador < 5:\n",
        "    print(contador)\n",
        "    contador += 1\n"
      ],
      "metadata": {
        "colab": {
          "base_uri": "https://localhost:8080/"
        },
        "id": "wyjIWvzmvkQd",
        "outputId": "fba66e22-6374-4d52-eb5f-eda7544be581"
      },
      "execution_count": null,
      "outputs": [
        {
          "output_type": "stream",
          "name": "stdout",
          "text": [
            "0\n",
            "1\n",
            "2\n",
            "3\n",
            "4\n"
          ]
        }
      ]
    },
    {
      "cell_type": "markdown",
      "source": [
        "Aqui está um exemplo que utiliza uma função em conjunto com uma estrutura de decisão if, elif e else:"
      ],
      "metadata": {
        "id": "jt0VJKUNvuBw"
      }
    },
    {
      "cell_type": "code",
      "source": [
        "# Definindo uma função para verificar a categoria de idade\n",
        "def verificar_categoria_idade(idade):\n",
        "    if idade < 18:\n",
        "        return \"Menor de idade\"\n",
        "    elif idade >= 18 and idade < 65:\n",
        "        return \"Adulto\"\n",
        "    else:\n",
        "        return \"Idoso\"\n",
        "\n",
        "# Usando a função para verificar a categoria de idade\n",
        "idade1 = 16\n",
        "categoria1 = verificar_categoria_idade(idade1)\n",
        "print(f\"Pessoa 1: {categoria1}\")\n",
        "\n",
        "idade2 = 30\n",
        "categoria2 = verificar_categoria_idade(idade2)\n",
        "print(f\"Pessoa 2: {categoria2}\")\n",
        "\n",
        "idade3 = 70\n",
        "categoria3 = verificar_categoria_idade(idade3)\n",
        "print(f\"Pessoa 3: {categoria3}\")\n"
      ],
      "metadata": {
        "colab": {
          "base_uri": "https://localhost:8080/"
        },
        "id": "jwHC1wF9vuzg",
        "outputId": "94ac395b-8810-4a51-8f28-76e69021bec0"
      },
      "execution_count": null,
      "outputs": [
        {
          "output_type": "stream",
          "name": "stdout",
          "text": [
            "Pessoa 1: Menor de idade\n",
            "Pessoa 2: Adulto\n",
            "Pessoa 3: Idoso\n"
          ]
        }
      ]
    },
    {
      "cell_type": "markdown",
      "source": [
        "Neste exemplo, criamos uma função chamada verificar_categoria_idade que aceita a idade como argumento e retorna a categoria de idade com base nas condições if, elif e else. Em seguida, usamos essa função para verificar a categoria de idade de três pessoas diferentes.\n",
        "\n",
        "O resultado será:\n",
        "Pessoa 1: Menor de idade\n",
        "Pessoa 2: Adulto\n",
        "Pessoa 3: Idoso\n",
        "\n",
        "*   Pessoa 1: Menor de idade\n",
        "*   Pessoa 2: Adulto\n",
        "*   Pessoa 3: Idoso\n",
        "\n",
        "\n",
        "\n",
        "\n"
      ],
      "metadata": {
        "id": "vDrsYreNvzVD"
      }
    },
    {
      "cell_type": "markdown",
      "source": [
        "Vamos criar um exemplo diferente que usa uma função com uma estrutura de decisão para determinar o status de aprovação de um aluno com base em sua pontuação em um exame. Neste caso, usaremos uma função chamada verificar_aprovacao:"
      ],
      "metadata": {
        "id": "rsLQXGbcw9pE"
      }
    },
    {
      "cell_type": "code",
      "source": [
        "# Definindo uma função para verificar o status de aprovação\n",
        "def verificar_aprovacao(pontuacao):\n",
        "    if pontuacao >= 70:\n",
        "        return \"Aprovado\"\n",
        "    elif pontuacao >= 50:\n",
        "        return \"Recuperação\"\n",
        "    else:\n",
        "        return \"Reprovado\"\n",
        "\n",
        "# Solicitar a pontuação do aluno ao usuário\n",
        "pontuacao_aluno = float(input(\"Informe a pontuação do aluno: \"))\n",
        "\n",
        "# Usar a função para verificar o status de aprovação\n",
        "status = verificar_aprovacao(pontuacao_aluno)\n",
        "\n",
        "# Exibir o resultado\n",
        "print(f\"O aluno está {status}.\")\n"
      ],
      "metadata": {
        "colab": {
          "base_uri": "https://localhost:8080/"
        },
        "id": "j_M2fS4kxCgz",
        "outputId": "78d80576-e47e-4d17-9d58-5d9f42e8f3e0"
      },
      "execution_count": null,
      "outputs": [
        {
          "output_type": "stream",
          "name": "stdout",
          "text": [
            "Informe a pontuação do aluno: 60\n",
            "O aluno está Recuperação.\n"
          ]
        }
      ]
    },
    {
      "cell_type": "markdown",
      "source": [
        "Neste exemplo, a função verificar_aprovacao recebe a pontuação do aluno como argumento e determina se o aluno está \"Aprovado\", em \"Recuperação\" ou \"Reprovado\" com base em diferentes faixas de pontuação. O programa solicita ao usuário a pontuação do aluno, usa a função para verificar o status de aprovação e exibe o resultado.\n",
        "\n",
        "Isso demonstra como uma função pode ser usada para modularizar o código e realizar uma decisão com base em um valor de entrada."
      ],
      "metadata": {
        "id": "tdZuikS4xGc8"
      }
    }
  ]
}