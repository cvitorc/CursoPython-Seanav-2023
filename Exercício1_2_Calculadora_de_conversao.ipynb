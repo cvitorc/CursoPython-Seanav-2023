{
  "nbformat": 4,
  "nbformat_minor": 0,
  "metadata": {
    "colab": {
      "provenance": []
    },
    "kernelspec": {
      "name": "python3",
      "display_name": "Python 3"
    },
    "language_info": {
      "name": "python"
    }
  },
  "cells": [
    {
      "cell_type": "code",
      "execution_count": null,
      "metadata": {
        "colab": {
          "base_uri": "https://localhost:8080/"
        },
        "id": "vHbkhnVg06WC",
        "outputId": "45e2892b-fa03-4dfa-f204-48e74e620116"
      },
      "outputs": [
        {
          "output_type": "stream",
          "name": "stdout",
          "text": [
            "Calculadora de Conversão de Unidades Navais\n",
            "1. Converter pés para metros\n",
            "2. Converter nós para quilômetros por hora\n",
            "3. Converter metros cúbicos para litros\n",
            "4. Sair\n",
            "Escolha uma opção (1/2/3/4): 1\n",
            "Digite a quantidade em pés: 10\n",
            "10.0 pés é igual a 3.05 metros.\n",
            "1. Converter pés para metros\n",
            "2. Converter nós para quilômetros por hora\n",
            "3. Converter metros cúbicos para litros\n",
            "4. Sair\n",
            "Escolha uma opção (1/2/3/4): 4\n",
            "Obrigado por usar a Calculadora de Conversão de Unidades Navais. Adeus!\n"
          ]
        }
      ],
      "source": [
        "# Função para converter pés para metros\n",
        "def pes_para_metros(pes):\n",
        "    # Fórmula de conversão de pés para metros\n",
        "    metros = pes * 0.3048\n",
        "    return metros\n",
        "\n",
        "# Função para converter nós para quilômetros por hora\n",
        "def nos_para_kmph(nos):\n",
        "    # Fórmula de conversão de nós para quilômetros por hora\n",
        "    kmph = nos * 1.852\n",
        "    return kmph\n",
        "\n",
        "# Função para converter metros cúbicos para litros\n",
        "def metros_cubicos_para_litros(metros_cubicos):\n",
        "    # Fórmula de conversão de metros cúbicos para litros\n",
        "    litros = metros_cubicos * 1000\n",
        "    return litros\n",
        "\n",
        "# Função principal do programa\n",
        "def main():\n",
        "    print(\"Calculadora de Conversão de Unidades Navais\")\n",
        "    while True:\n",
        "        # Opções para o usuário\n",
        "        print(\"1. Converter pés para metros\")\n",
        "        print(\"2. Converter nós para quilômetros por hora\")\n",
        "        print(\"3. Converter metros cúbicos para litros\")\n",
        "        print(\"4. Sair\")  # Nova opção para sair\n",
        "\n",
        "        escolha = input(\"Escolha uma opção (1/2/3/4): \")\n",
        "\n",
        "        if escolha == '1':\n",
        "            pes = float(input(\"Digite a quantidade em pés: \"))\n",
        "            metros = pes_para_metros(pes)\n",
        "            print(f\"{pes} pés é igual a {metros:.2f} metros.\")\n",
        "        elif escolha == '2':\n",
        "            nos = float(input(\"Digite a velocidade em nós: \"))\n",
        "            kmph = nos_para_kmph(nos)\n",
        "            print(f\"{nos} nós é igual a {kmph:.2f} km/h.\")\n",
        "        elif escolha == '3':\n",
        "            metros_cubicos = float(input(\"Digite o volume em metros cúbicos: \"))\n",
        "            litros = metros_cubicos_para_litros(metros_cubicos)\n",
        "            print(f\"{metros_cubicos} metros cúbicos é igual a {litros:.2f} litros.\")\n",
        "        elif escolha == '4':\n",
        "            print(\"Obrigado por usar a Calculadora de Conversão de Unidades Navais. Adeus!\")\n",
        "            break  # Sai do loop e encerra o programa\n",
        "        else:\n",
        "            print(\"Opção inválida. Por favor, escolha uma opção válida (1/2/3/4).\")\n",
        "\n",
        "\n",
        "# Verificar se o programa está sendo executado como script principal\n",
        "if __name__ == \"__main__\":\n",
        "    main()  # Chamar a função principal do programa\n"
      ]
    }
  ]
}